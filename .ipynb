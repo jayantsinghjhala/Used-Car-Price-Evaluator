{
 "cells": [
  {
   "cell_type": "code",
   "execution_count": 235,
   "id": "45ba36f4",
   "metadata": {},
   "outputs": [],
   "source": [
    "# importing required libraries\n",
    "# importing Scikit-learn library and datasets package\\\n",
    "import pandas as pd\n",
    "from sklearn import metrics\n",
    "import matplotlib.pyplot as plt\n",
    "# importing random forest classifier from assemble module\n",
    "from sklearn.ensemble import RandomForestClassifier\n",
    "from sklearn.ensemble import RandomForestRegressor"
   ]
  },
  {
   "cell_type": "code",
   "execution_count": null,
   "id": "02f9923a",
   "metadata": {},
   "outputs": [],
   "source": []
  },
  {
   "cell_type": "code",
   "execution_count": 236,
   "id": "6703e81a",
   "metadata": {},
   "outputs": [],
   "source": [
    "# Loading the iris plants dataset (classification)\n",
    "#balance_data = datasets.load_iris()\n",
    "#print(iris.target_names)\n",
    "#print(iris.feature_names)\n",
    "df=pd.read_csv(\"cardekho_r.csv\")\n",
    "#df.drop(['new_price'], axis=1,inplace=True)\n",
    "\n",
    "# dividing the datasets into two parts i.e. training datasets and test datasets\n",
    "#X, y = datasets.load_iris( return_X_y = True)\n",
    "#X=balance_data[['carlength','enginesize','peakrpm','citympg','carwidth','carheight',\\\n",
    "#    'stroke','horsepower','highwaympg']]\n",
    "\n",
    "#Y=balance_data.values[:, 0]\n",
    "#Y=balance_data.iloc[:,26]\n"
   ]
  },
  {
   "cell_type": "code",
   "execution_count": 237,
   "id": "461727db",
   "metadata": {},
   "outputs": [],
   "source": [
    "df.dropna(inplace=True)\n",
    "df.drop_duplicates(inplace=True)\n",
    "duplicate_rows_df = df[df.duplicated()]\n",
    "df.reset_index(drop=True,inplace=True)"
   ]
  },
  {
   "cell_type": "code",
   "execution_count": 238,
   "id": "55f26991",
   "metadata": {},
   "outputs": [],
   "source": [
    "c=[]\n",
    "test=df['new_price']\n",
    "for i in test:\n",
    "    m=i.split(\"-\")\n",
    "    a=float(m[0])\n",
    "    if len(m)==1 :\n",
    "        c.append(a)\n",
    "        continue\n",
    "    b=float(m[1])\n",
    "    sum=((a+b)/2)*100000\n",
    "    c.append(sum)\n",
    "df['new_price']=pd.Series(c)"
   ]
  },
  {
   "cell_type": "code",
   "execution_count": 239,
   "id": "ebe646e9",
   "metadata": {},
   "outputs": [],
   "source": [
    "s=pd.factorize(df['fullname'])[0]\n",
    "df['fullname']=s"
   ]
  },
  {
   "cell_type": "code",
   "execution_count": 240,
   "id": "f34fb90e",
   "metadata": {},
   "outputs": [],
   "source": [
    "s=pd.factorize(df['sellertype'])[0]\n",
    "df['sellertype']=s"
   ]
  },
  {
   "cell_type": "code",
   "execution_count": 241,
   "id": "3a5f5468",
   "metadata": {},
   "outputs": [],
   "source": [
    "#s=pd.factorize(df['ownertype'])[0]\n",
    "#df['ownertype']=s"
   ]
  },
  {
   "cell_type": "code",
   "execution_count": 242,
   "id": "d1040f87",
   "metadata": {},
   "outputs": [],
   "source": [
    "s=pd.factorize(df['fueltype'])[0]\n",
    "df['fueltype']=s"
   ]
  },
  {
   "cell_type": "code",
   "execution_count": 243,
   "id": "1166a1d9",
   "metadata": {},
   "outputs": [],
   "source": [
    "s=pd.factorize(df['transmissiontype'])[0]\n",
    "df['transmissiontype']=s"
   ]
  },
  {
   "cell_type": "code",
   "execution_count": 244,
   "id": "51682ef6",
   "metadata": {},
   "outputs": [
    {
     "data": {
      "text/html": [
       "<div>\n",
       "<style scoped>\n",
       "    .dataframe tbody tr th:only-of-type {\n",
       "        vertical-align: middle;\n",
       "    }\n",
       "\n",
       "    .dataframe tbody tr th {\n",
       "        vertical-align: top;\n",
       "    }\n",
       "\n",
       "    .dataframe thead th {\n",
       "        text-align: right;\n",
       "    }\n",
       "</style>\n",
       "<table border=\"1\" class=\"dataframe\">\n",
       "  <thead>\n",
       "    <tr style=\"text-align: right;\">\n",
       "      <th></th>\n",
       "      <th>fullname</th>\n",
       "      <th>price</th>\n",
       "      <th>new_price</th>\n",
       "      <th>year</th>\n",
       "      <th>sellertype</th>\n",
       "      <th>kmdriven</th>\n",
       "      <th>ownertype</th>\n",
       "      <th>fueltype</th>\n",
       "      <th>transmissiontype</th>\n",
       "      <th>mileage</th>\n",
       "      <th>enginecc</th>\n",
       "      <th>maxpowerbhp</th>\n",
       "      <th>seats</th>\n",
       "      <th>pricelakh</th>\n",
       "      <th>price_old</th>\n",
       "    </tr>\n",
       "  </thead>\n",
       "  <tbody>\n",
       "    <tr>\n",
       "      <th>0</th>\n",
       "      <td>0</td>\n",
       "      <td>550000</td>\n",
       "      <td>729500.0</td>\n",
       "      <td>2016</td>\n",
       "      <td>0</td>\n",
       "      <td>20000</td>\n",
       "      <td>First Owner</td>\n",
       "      <td>0</td>\n",
       "      <td>0</td>\n",
       "      <td>18.90</td>\n",
       "      <td>1197.0</td>\n",
       "      <td>82.00</td>\n",
       "      <td>5.0</td>\n",
       "      <td>Medium Range</td>\n",
       "      <td>5.50</td>\n",
       "    </tr>\n",
       "    <tr>\n",
       "      <th>1</th>\n",
       "      <td>1</td>\n",
       "      <td>570000</td>\n",
       "      <td>1196500.0</td>\n",
       "      <td>2015</td>\n",
       "      <td>1</td>\n",
       "      <td>30000</td>\n",
       "      <td>First Owner</td>\n",
       "      <td>1</td>\n",
       "      <td>0</td>\n",
       "      <td>22.77</td>\n",
       "      <td>1498.0</td>\n",
       "      <td>98.59</td>\n",
       "      <td>5.0</td>\n",
       "      <td>Medium Range</td>\n",
       "      <td>5.70</td>\n",
       "    </tr>\n",
       "    <tr>\n",
       "      <th>2</th>\n",
       "      <td>2</td>\n",
       "      <td>350000</td>\n",
       "      <td>605000.0</td>\n",
       "      <td>2013</td>\n",
       "      <td>0</td>\n",
       "      <td>35000</td>\n",
       "      <td>First Owner</td>\n",
       "      <td>0</td>\n",
       "      <td>0</td>\n",
       "      <td>18.90</td>\n",
       "      <td>998.0</td>\n",
       "      <td>67.10</td>\n",
       "      <td>5.0</td>\n",
       "      <td>Lower Range</td>\n",
       "      <td>3.50</td>\n",
       "    </tr>\n",
       "    <tr>\n",
       "      <th>3</th>\n",
       "      <td>3</td>\n",
       "      <td>315000</td>\n",
       "      <td>658500.0</td>\n",
       "      <td>2013</td>\n",
       "      <td>1</td>\n",
       "      <td>40000</td>\n",
       "      <td>First Owner</td>\n",
       "      <td>0</td>\n",
       "      <td>0</td>\n",
       "      <td>20.36</td>\n",
       "      <td>1197.0</td>\n",
       "      <td>78.90</td>\n",
       "      <td>5.0</td>\n",
       "      <td>Lower Range</td>\n",
       "      <td>3.15</td>\n",
       "    </tr>\n",
       "    <tr>\n",
       "      <th>4</th>\n",
       "      <td>4</td>\n",
       "      <td>410000</td>\n",
       "      <td>613500.0</td>\n",
       "      <td>2018</td>\n",
       "      <td>1</td>\n",
       "      <td>17512</td>\n",
       "      <td>First Owner</td>\n",
       "      <td>0</td>\n",
       "      <td>0</td>\n",
       "      <td>20.51</td>\n",
       "      <td>998.0</td>\n",
       "      <td>67.04</td>\n",
       "      <td>5.0</td>\n",
       "      <td>Lower Range</td>\n",
       "      <td>4.10</td>\n",
       "    </tr>\n",
       "  </tbody>\n",
       "</table>\n",
       "</div>"
      ],
      "text/plain": [
       "   fullname   price  new_price  year  sellertype  kmdriven    ownertype  \\\n",
       "0         0  550000   729500.0  2016           0     20000  First Owner   \n",
       "1         1  570000  1196500.0  2015           1     30000  First Owner   \n",
       "2         2  350000   605000.0  2013           0     35000  First Owner   \n",
       "3         3  315000   658500.0  2013           1     40000  First Owner   \n",
       "4         4  410000   613500.0  2018           1     17512  First Owner   \n",
       "\n",
       "   fueltype  transmissiontype  mileage  enginecc  maxpowerbhp  seats  \\\n",
       "0         0                 0    18.90    1197.0        82.00    5.0   \n",
       "1         1                 0    22.77    1498.0        98.59    5.0   \n",
       "2         0                 0    18.90     998.0        67.10    5.0   \n",
       "3         0                 0    20.36    1197.0        78.90    5.0   \n",
       "4         0                 0    20.51     998.0        67.04    5.0   \n",
       "\n",
       "      pricelakh  price_old  \n",
       "0  Medium Range       5.50  \n",
       "1  Medium Range       5.70  \n",
       "2   Lower Range       3.50  \n",
       "3   Lower Range       3.15  \n",
       "4   Lower Range       4.10  "
      ]
     },
     "execution_count": 244,
     "metadata": {},
     "output_type": "execute_result"
    }
   ],
   "source": [
    "df.head()"
   ]
  },
  {
   "cell_type": "code",
   "execution_count": 245,
   "id": "c8878033",
   "metadata": {},
   "outputs": [],
   "source": [
    "X=df[['new_price','year','fueltype','transmissiontype','mileage','enginecc','kmdriven']] #,'sellertype','seats'\n",
    "Y=df.iloc[:,1]"
   ]
  },
  {
   "cell_type": "code",
   "execution_count": 246,
   "id": "c4d3d4ba",
   "metadata": {},
   "outputs": [],
   "source": [
    "# Spliting arrays or matrices into random train and test subsets\n",
    "from sklearn.model_selection import train_test_split\n",
    "# i.e. 70 % training dataset and 30 % test datasets\n",
    "X_train, X_test, y_train, y_test = train_test_split(X, Y, test_size = 0.20,random_state=112)"
   ]
  },
  {
   "cell_type": "code",
   "execution_count": 247,
   "id": "8ad30565",
   "metadata": {},
   "outputs": [
    {
     "data": {
      "text/plain": [
       "RandomForestRegressor(n_estimators=150)"
      ]
     },
     "execution_count": 247,
     "metadata": {},
     "output_type": "execute_result"
    }
   ],
   "source": [
    "# creating a RF classifier\n",
    "#clf = RandomForestClassifier(n_estimators = 510)\n",
    "hyp = RandomForestRegressor(n_estimators = 150)#341- 280\n",
    "# Training the model on the training dataset\n",
    "# fit function is used to train the model using the training sets as parameters\n",
    "hyp.fit(X_train, y_train)"
   ]
  },
  {
   "cell_type": "code",
   "execution_count": 248,
   "id": "1ab2698d",
   "metadata": {},
   "outputs": [],
   "source": [
    "# performing predictions on the test dataset\n",
    "y_pred = hyp.predict(X_test)\n",
    "# predicting which type of flower it is.\n",
    "#print('Output Class',clf.predict([[3,11.965,2013,1,40000,0,0,20.36,1197.0,78.90,5.0]])) "
   ]
  },
  {
   "cell_type": "code",
   "execution_count": 249,
   "id": "3d1a640d",
   "metadata": {},
   "outputs": [
    {
     "name": "stdout",
     "output_type": "stream",
     "text": [
      "\n",
      "Accuracy: \n",
      " 93.658465936162 %\n"
     ]
    }
   ],
   "source": [
    "# metrics are used to find accuracy or error\n",
    "\n",
    "# using metrics module for accuracy calculation\n",
    "print('\\nAccuracy: \\n', hyp.score(X_test,y_test)*100,\"%\")\n",
    "#print(\"ACCURACY OF THE MODEL: \", metrics.accuracy_score(y_test, y_pred)*100,\"%\")\n",
    "#reg. 90.5333088054793 %\n",
    "#93.23430054090427 % without >abs 0.2 corr"
   ]
  },
  {
   "cell_type": "code",
   "execution_count": 256,
   "id": "abf831ec",
   "metadata": {},
   "outputs": [
    {
     "name": "stderr",
     "output_type": "stream",
     "text": [
      "C:\\ProgramData\\Anaconda3\\lib\\site-packages\\sklearn\\base.py:450: UserWarning: X does not have valid feature names, but RandomForestRegressor was fitted with feature names\n",
      "  warnings.warn(\n"
     ]
    },
    {
     "data": {
      "text/plain": [
       "array([317813.33333333])"
      ]
     },
     "execution_count": 256,
     "metadata": {},
     "output_type": "execute_result"
    }
   ],
   "source": [
    "hyp.predict([[760000,2010,0,0,12,1199,20000]])"
   ]
  },
  {
   "cell_type": "code",
   "execution_count": 257,
   "id": "f276a388",
   "metadata": {},
   "outputs": [],
   "source": [
    "import pickle\n",
    "file = open('file.pkl','wb')\n",
    "pickle.dump(hyp,file)"
   ]
  },
  {
   "cell_type": "code",
   "execution_count": null,
   "id": "1d9c5d77",
   "metadata": {},
   "outputs": [],
   "source": [
    "''''year = int(request.form['year'])\n",
    "new_price = float(request.form['new_price'])\n",
    "kmdriven = int(request.form['kmdriven'])\n",
    "fueltype = request.form['fueltype']\n",
    "transmissiontype = request.form['transmissiontype']\n",
    "enginecc=int(request.form['enginecc'])\n",
    "mileage=float(request.form['mileage'])\n",
    "if(fueltype == 'Petrol'):\n",
    "    fuel = 0\n",
    "else:\n",
    "    fuel = 1\n",
    "\n",
    "if(transmissiontype == 'Manual'):\n",
    "    transmissiontype = 0\n",
    "else:\n",
    "    transmissiontype = 1\n",
    "\n",
    "prediction = hyp.predict([[new_price,year,fuel,transmissiontype,mileage,enginecc,kmdriven]])\n",
    "output = round(prediction[0],2)\n",
    "print(output)\n",
    "''''"
   ]
  },
  {
   "cell_type": "code",
   "execution_count": null,
   "id": "86c5e85b",
   "metadata": {},
   "outputs": [],
   "source": []
  }
 ],
 "metadata": {
  "kernelspec": {
   "display_name": "Python 3 (ipykernel)",
   "language": "python",
   "name": "python3"
  },
  "language_info": {
   "codemirror_mode": {
    "name": "ipython",
    "version": 3
   },
   "file_extension": ".py",
   "mimetype": "text/x-python",
   "name": "python",
   "nbconvert_exporter": "python",
   "pygments_lexer": "ipython3",
   "version": "3.9.12"
  }
 },
 "nbformat": 4,
 "nbformat_minor": 5
}
